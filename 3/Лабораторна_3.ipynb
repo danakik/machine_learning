{
 "cells": [
  {
   "cell_type": "markdown",
   "id": "cb8bb3ee-b417-4f44-94d4-30cac4ca7b75",
   "metadata": {},
   "source": [
    "## Лабораторна робота. Лінійна регресія\n",
    "\n",
    "1.Використовуючи дані з файлу 'student_scores.csv' побудуйте модель простої регресії для знаходження залежності між значеннями тривалості навчання і середнього балу студентів.\n",
    "Оцінити якість отриманої регресії."
   ]
  },
  {
   "cell_type": "code",
   "execution_count": 14,
   "id": "dd7053f8-84b6-4492-9f37-4cd7f84010c6",
   "metadata": {},
   "outputs": [],
   "source": [
    "# Завантаження даних з файлу\n"
   ]
  },
  {
   "cell_type": "code",
   "execution_count": 15,
   "id": "58d1bebc-440c-45b4-bcd7-9ab53479daa0",
   "metadata": {},
   "outputs": [],
   "source": [
    "# розділення даних на залежну (y) та незалежну (x) змінні\n",
    "\n",
    "\n",
    "# розділення даних на тренувальну та тестову вибірки\n",
    "\n",
    "\n",
    "# створення моделі лінійної регресії\n",
    "\n",
    "\n",
    "# навчання моделі на тренувальних даних\n",
    "\n",
    "\n",
    "# прогноз на тестових даних\n",
    "\n",
    "\n",
    "# виведення результату фітингу моделі лінійної регресії на тестових даних\n",
    "\n",
    "\n",
    "# створення моделі лінійної регресії та виведення коефіціентів отриманої моделі\n",
    "\n",
    "\n",
    "# оцінювання якості моделі за допомогою метрик R2 та MSE\n",
    "\n"
   ]
  },
  {
   "cell_type": "markdown",
   "id": "b89f6651-a2ad-4806-8ff0-09896dd7a5cb",
   "metadata": {},
   "source": [
    "Висновки: тут Ваші висновки\n",
    "\n"
   ]
  },
  {
   "cell_type": "code",
   "execution_count": 16,
   "id": "e5505aaf-4608-4fcd-8222-6dd7c0383117",
   "metadata": {},
   "outputs": [],
   "source": [
    "# побудова графіку отриманої лінії та фактичних значень"
   ]
  },
  {
   "cell_type": "code",
   "execution_count": 17,
   "id": "fcccf31b-ec40-4c1a-baaf-61c5c365e894",
   "metadata": {},
   "outputs": [],
   "source": [
    "# оцінка якості моделі за допомогою метрик R2 та MSE\n",
    "\n",
    "\n",
    "# виведення оцінки якості моделі\n"
   ]
  },
  {
   "cell_type": "markdown",
   "id": "e4a44c46-e104-4c89-9ebe-f11dc356cf07",
   "metadata": {},
   "source": [
    "2. Використовуючи дані з файлу 'petrol_consumption.csv' побудуйте модель множинної регресії для знаходження залежності між значеннями споживання бензину і похідними факторами.\n",
    "Оцінити якість отриманої регресії."
   ]
  },
  {
   "cell_type": "code",
   "execution_count": 18,
   "id": "7f58b5bb-60de-4c27-bb90-0cd50f86f5d9",
   "metadata": {},
   "outputs": [],
   "source": [
    "# завантаження даних з файлу csv\n"
   ]
  },
  {
   "cell_type": "code",
   "execution_count": 19,
   "id": "6cec62b3-6610-4fdb-a200-aa7b95593568",
   "metadata": {},
   "outputs": [],
   "source": [
    "# визначення ознак та цільової змінної\n",
    "\n",
    "\n",
    "# розділення даних на тренувальну та тестову вибірки\n",
    "\n",
    "\n",
    "# навчання моделі множинної регресії на тренувальній вибірці. Виведення коефеціентів отриманої моделі\n",
    "\n",
    "\n",
    "# прогноз на тестовій вибірці\n",
    "\n",
    "\n",
    "# обчислення коефіцієнт детермінації R² для оцінки якості моделі\n"
   ]
  },
  {
   "cell_type": "markdown",
   "id": "85995381-987b-4493-934f-e75fd19f2956",
   "metadata": {},
   "source": [
    "Висновки щодо значення коефіцієнта детермінації R²: "
   ]
  },
  {
   "cell_type": "code",
   "execution_count": 20,
   "id": "c2f93354-2365-4d05-ada1-82b99d23488d",
   "metadata": {},
   "outputs": [],
   "source": [
    "# обчислення Mean Squared Error, Mean Absolute Error, Root Mean Squared Error"
   ]
  },
  {
   "cell_type": "code",
   "execution_count": 21,
   "id": "d2a3bf1e-6984-432f-b839-8fe040e16ba6",
   "metadata": {},
   "outputs": [],
   "source": [
    "# Візуалізація даних та регресії\n"
   ]
  },
  {
   "cell_type": "markdown",
   "id": "f715f9c8",
   "metadata": {},
   "source": [
    "Висновки щодо отриманої моделі"
   ]
  },
  {
   "cell_type": "code",
   "execution_count": null,
   "id": "892464e8",
   "metadata": {},
   "outputs": [],
   "source": []
  }
 ],
 "metadata": {
  "kernelspec": {
   "display_name": "Python 3 (ipykernel)",
   "language": "python",
   "name": "python3"
  },
  "language_info": {
   "codemirror_mode": {
    "name": "ipython",
    "version": 3
   },
   "file_extension": ".py",
   "mimetype": "text/x-python",
   "name": "python",
   "nbconvert_exporter": "python",
   "pygments_lexer": "ipython3",
   "version": "3.9.13"
  }
 },
 "nbformat": 4,
 "nbformat_minor": 5
}
