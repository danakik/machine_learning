{
 "cells": [
  {
   "cell_type": "markdown",
   "id": "3972e373",
   "metadata": {},
   "source": [
    "# Лабораторна робота .  SVM та Kernel SVM за допомогою Python Scikit-Learn\n",
    "\n",
    "Реалізувати SVM для визначення підроблених банкнот. \n",
    "Реалізувати різні варанти ядра, порівняти результати.\n",
    "\n",
    "В якості допомоги скористатися посиланням https://stackabuse.com/implementing-svm-and-kernel-svm-with-pythons-scikit-learn/\n",
    "\n",
    "Пояснити кожен параметр функції SVC.\n",
    "\n",
    "Візуалізувати результати з різним значення параметру С\n",
    "\n",
    "Візуалізувати результати з різним значенням параметру $\\gamma$\n",
    "\n",
    "Зробити висновки щодо значень параметрів"
   ]
  },
  {
   "cell_type": "code",
   "execution_count": null,
   "id": "d4d73ca3",
   "metadata": {},
   "outputs": [],
   "source": []
  },
  {
   "cell_type": "code",
   "execution_count": null,
   "id": "69dc1503",
   "metadata": {},
   "outputs": [],
   "source": []
  },
  {
   "cell_type": "code",
   "execution_count": null,
   "id": "fd4f5ee9",
   "metadata": {},
   "outputs": [],
   "source": []
  }
 ],
 "metadata": {
  "kernelspec": {
   "display_name": "Python 3 (ipykernel)",
   "language": "python",
   "name": "python3"
  },
  "language_info": {
   "codemirror_mode": {
    "name": "ipython",
    "version": 3
   },
   "file_extension": ".py",
   "mimetype": "text/x-python",
   "name": "python",
   "nbconvert_exporter": "python",
   "pygments_lexer": "ipython3",
   "version": "3.9.13"
  }
 },
 "nbformat": 4,
 "nbformat_minor": 5
}
